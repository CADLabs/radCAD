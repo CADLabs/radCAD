{
 "cells": [
  {
   "cell_type": "code",
   "execution_count": 1,
   "id": "c91f051c-6764-44be-b1ee-dadf2c4bf706",
   "metadata": {},
   "outputs": [],
   "source": [
    "from radcad import Model\n",
    "\n",
    "import time\n",
    "import math\n",
    "from collections import deque"
   ]
  },
  {
   "cell_type": "code",
   "execution_count": 2,
   "id": "8fcb626b-0854-4861-97f8-66e11e1d1d48",
   "metadata": {},
   "outputs": [],
   "source": [
    "def update_sinusoid(params, substep, state_history, previous_state, policy_input):\n",
    "    amplitude = params['amplitude']\n",
    "    shift = params['shift']\n",
    "    stretch = params['stretch']\n",
    "    frequency = params['frequency']\n",
    "        \n",
    "    sinusoid = amplitude * math.sin(stretch * (previous_state['timestep'] + frequency)) + shift \n",
    "    \n",
    "    return 'sinusoid', sinusoid\n",
    "\n",
    "params = {\n",
    "    'amplitude': [1],\n",
    "    'shift': [0],\n",
    "    'stretch': [1],\n",
    "    'frequency': [1],\n",
    "}\n",
    "\n",
    "states = {\n",
    "    'sinusoid': 0.0,\n",
    "}\n",
    "\n",
    "state_update_blocks = [\n",
    "    {\n",
    "        'policies': {},\n",
    "        'variables': {\n",
    "            'sinusoid': update_sinusoid\n",
    "        }\n",
    "    },\n",
    "]"
   ]
  },
  {
   "cell_type": "code",
   "execution_count": 3,
   "id": "6232db0f-941a-4c1e-8b58-b8670bce5c3d",
   "metadata": {},
   "outputs": [
    {
     "data": {
      "application/vnd.jupyter.widget-view+json": {
       "model_id": "29088e1a0b5645a6944ff93d6b4ec88a",
       "version_major": 2,
       "version_minor": 0
      },
      "text/plain": [
       "FigureWidget({\n",
       "    'data': [{'type': 'scatter', 'uid': 'b4ba0307-3219-42f0-91c4-6eaf7363a6cb'}], 'layout': {'t…"
      ]
     },
     "metadata": {},
     "output_type": "display_data"
    }
   ],
   "source": [
    "import plotly.graph_objects as go\n",
    "\n",
    "fig = go.FigureWidget()\n",
    "fig.add_scatter()\n",
    "fig"
   ]
  },
  {
   "cell_type": "code",
   "execution_count": null,
   "id": "edf15abc-243c-4ca9-b380-37f72626a71d",
   "metadata": {},
   "outputs": [],
   "source": [
    "model = Model(initial_state=states, state_update_blocks=state_update_blocks, params=params)\n",
    "\n",
    "generator = iter(model)\n",
    "timesteps = deque([0], 50)\n",
    "window = deque(states, 50)\n",
    "\n",
    "while True:\n",
    "    _model = next(generator)\n",
    "    \n",
    "    timestep = _model.state['timestep']\n",
    "    sinusoid = _model.state['sinusoid']\n",
    "\n",
    "    _model.params.update({'amplitude': [timestep]})\n",
    "    \n",
    "    timesteps.append(timestep)\n",
    "    window.append(sinusoid)\n",
    "    \n",
    "    time.sleep(0.01)\n",
    "    fig.data[0].x = list(timesteps)\n",
    "    fig.data[0].y = list(window)"
   ]
  }
 ],
 "metadata": {
  "kernelspec": {
   "display_name": "python3-radcad",
   "language": "python",
   "name": "python3-radcad"
  },
  "language_info": {
   "codemirror_mode": {
    "name": "ipython",
    "version": 3
   },
   "file_extension": ".py",
   "mimetype": "text/x-python",
   "name": "python",
   "nbconvert_exporter": "python",
   "pygments_lexer": "ipython3",
   "version": "3.8.10"
  }
 },
 "nbformat": 4,
 "nbformat_minor": 5
}
